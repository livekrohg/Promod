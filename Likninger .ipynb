{
 "cells": [
  {
   "cell_type": "markdown",
   "metadata": {},
   "source": [
    "## Kvadratotalograritme "
   ]
  },
  {
   "cell_type": "code",
   "execution_count": 2,
   "metadata": {},
   "outputs": [
    {
     "name": "stdout",
     "output_type": "stream",
     "text": [
      "hva tror du kvadratroten av 12 er?3.5\n",
      "3.4641016151377544\n"
     ]
    }
   ],
   "source": [
    "\n",
    "gjett = float(input(\"hva tror du kvadratroten av 12 er?\"))\n",
    "\n",
    "def f(gjett):\n",
    "    return 1/2 *(gjett + (12/gjett))\n",
    "\n",
    "for i in range (7):\n",
    "    gjett = f(gjett) \n",
    "\n",
    "print(gjett)"
   ]
  },
  {
   "cell_type": "markdown",
   "metadata": {},
   "source": [
    "## Halveringsmetode "
   ]
  },
  {
   "cell_type": "code",
   "execution_count": 6,
   "metadata": {},
   "outputs": [
    {
     "name": "stdout",
     "output_type": "stream",
     "text": [
      "1.0000026226043701\n",
      "22\n"
     ]
    }
   ],
   "source": [
    "def g(x):\n",
    "    return 2*x - 2\n",
    "\n",
    "m = (a + b)/2\n",
    "teller = []\n",
    "\n",
    "tol = 1E-5\n",
    "\n",
    "def halverings(a, b, f):\n",
    "    m = (a*b)/2 \n",
    "    while abs(f(m)) > tol:\n",
    "        if f(a) * f(m) < 0:\n",
    "            b = m\n",
    "        elif f(b) * f(m) < 0:\n",
    "            a = m\n",
    "        m = (a + b)/2\n",
    "        teller.append(1)\n",
    "    return m, i\n",
    "    \n",
    "nullpunkt, antall = halverings(-5, 10, g)\n",
    "print(nullpunkt)\n",
    "print(len(teller))"
   ]
  },
  {
   "cell_type": "markdown",
   "metadata": {},
   "source": [
    "## Newtons metode "
   ]
  },
  {
   "cell_type": "code",
   "execution_count": null,
   "metadata": {},
   "outputs": [],
   "source": []
  }
 ],
 "metadata": {
  "kernelspec": {
   "display_name": "Python 3",
   "language": "python",
   "name": "python3"
  },
  "language_info": {
   "codemirror_mode": {
    "name": "ipython",
    "version": 3
   },
   "file_extension": ".py",
   "mimetype": "text/x-python",
   "name": "python",
   "nbconvert_exporter": "python",
   "pygments_lexer": "ipython3",
   "version": "3.7.3"
  }
 },
 "nbformat": 4,
 "nbformat_minor": 2
}
