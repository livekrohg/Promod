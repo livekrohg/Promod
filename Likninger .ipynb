{
 "cells": [
  {
   "cell_type": "markdown",
   "metadata": {},
   "source": [
    "## Kvadratotalograritme "
   ]
  },
  {
   "cell_type": "code",
   "execution_count": 2,
   "metadata": {},
   "outputs": [
    {
     "name": "stdout",
     "output_type": "stream",
     "text": [
      "hva tror du kvadratroten av 12 er?3.5\n",
      "3.4641016151377544\n"
     ]
    }
   ],
   "source": [
    "\n",
    "gjett = float(input(\"hva tror du kvadratroten av 12 er?\"))\n",
    "\n",
    "def f(gjett):\n",
    "    return 1/2 *(gjett + (12/gjett))\n",
    "\n",
    "for i in range (7):\n",
    "    gjett = f(gjett) \n",
    "\n",
    "print(gjett)"
   ]
  },
  {
   "cell_type": "markdown",
   "metadata": {},
   "source": [
    "## Halveringsmetode "
   ]
  },
  {
   "cell_type": "code",
   "execution_count": 6,
   "metadata": {},
   "outputs": [
    {
     "name": "stdout",
     "output_type": "stream",
     "text": [
      "1.0000026226043701\n",
      "22\n"
     ]
    }
   ],
   "source": [
    "def g(x):\n",
    "    return 2*x - 2\n",
    "\n",
    "m = (a + b)/2\n",
    "teller = []\n",
    "\n",
    "tol = 1E-5\n",
    "\n",
    "def halverings(a, b, f):\n",
    "    m = (a*b)/2 \n",
    "    while abs(f(m)) > tol:\n",
    "        if f(a) * f(m) < 0:\n",
    "            b = m\n",
    "        elif f(b) * f(m) < 0:\n",
    "            a = m\n",
    "        m = (a + b)/2\n",
    "        teller.append(1)\n",
    "    return m, i\n",
    "    \n",
    "nullpunkt, antall = halverings(-5, 10, g)\n",
    "print(nullpunkt)\n",
    "print(len(teller))"
   ]
  },
  {
   "cell_type": "markdown",
   "metadata": {},
   "source": [
    "## Newtons metode \n",
    "\n",
    "Ulemper:\n",
    "- du trenger den deriverte av funksjonen \n",
    "- du deler på 0 dersom du lager en tangent i et ekstremalpunkt \n",
    "- den kan 'sette seg fast' i f.eks. tredjegradsfunksjoner \n",
    "\n",
    "fordeler:\n",
    "- metoden konvergerer raskt mot nullpunktet \n",
    "\n",
    "$$x_{n+1} = x_n - \\frac{f(x_n)}{f'(x_n)}$$"
   ]
  },
  {
   "cell_type": "code",
   "execution_count": 26,
   "metadata": {},
   "outputs": [
    {
     "name": "stdout",
     "output_type": "stream",
     "text": [
      "0.00213623046875\n",
      "14\n"
     ]
    }
   ],
   "source": [
    "def f(x):\n",
    "    return x**2\n",
    "def g(x):\n",
    "    return 2*x\n",
    "\n",
    "a = 35\n",
    "tol = 1E-5\n",
    "teller = 0\n",
    "\n",
    "\n",
    "while abs(f(a)) > tol and teller < 100:\n",
    "    a = a - (f(a)/g(a))\n",
    "    teller += 1\n",
    "\n",
    "print(a)\n",
    "print(teller)"
   ]
  },
  {
   "cell_type": "markdown",
   "metadata": {},
   "source": [
    "## Skyte spurver med kanoner \n",
    " "
   ]
  },
  {
   "cell_type": "code",
   "execution_count": 1,
   "metadata": {},
   "outputs": [
    {
     "name": "stdout",
     "output_type": "stream",
     "text": [
      "0.9802925496194242\n",
      "4.713566263801306\n",
      "[5.772916107555063]\n",
      "[0.5235987755982988]\n"
     ]
    }
   ],
   "source": [
    "from pylab import*\n",
    "\n",
    "vinkel = pi/4\n",
    "v_0 = 6.8\n",
    "tol = tol = 1E-5\n",
    "t = 10\n",
    "N = 100\n",
    "i = 0\n",
    "\n",
    "def hoyde(t, vinkel):\n",
    "    return v_0 * sin(vinkel) * t - 0.5*9.81*t**2\n",
    "\n",
    "def hoydeder(t):\n",
    "    return v_0 * sin(vinkel) -9.81 * t\n",
    "\n",
    "def lengde(t, vinkel):\n",
    "    return v_0 * cos(vinkel) * t\n",
    "\n",
    "\n",
    "while abs(hoyde(t, vinkel)) > tol and i <= 100:\n",
    "    i +=1\n",
    "    t = t - hoyde(t, vinkel)/hoydeder(t)\n",
    "\n",
    "print(t)\n",
    "print(lengde(t, vinkel))\n",
    "\n",
    "listelengde = [0]\n",
    "listevinkel = [0]\n",
    "\n",
    "for k in range(3, 7):\n",
    "    vinkel = pi/k\n",
    "    sted = lengde(t, vinkel)\n",
    "    if sted > listelengde[0]:\n",
    "        listelengde.pop(0)\n",
    "        listelengde.append(sted)\n",
    "        listevinkel.pop(0)\n",
    "        listevinkel.append(vinkel)\n",
    "        \n",
    "\n",
    "print(listelengde)\n",
    "print(listevinkel)\n"
   ]
  },
  {
   "cell_type": "code",
   "execution_count": null,
   "metadata": {},
   "outputs": [],
   "source": []
  }
 ],
 "metadata": {
  "kernelspec": {
   "display_name": "Python 3",
   "language": "python",
   "name": "python3"
  },
  "language_info": {
   "codemirror_mode": {
    "name": "ipython",
    "version": 3
   },
   "file_extension": ".py",
   "mimetype": "text/x-python",
   "name": "python",
   "nbconvert_exporter": "python",
   "pygments_lexer": "ipython3",
   "version": "3.7.3"
  }
 },
 "nbformat": 4,
 "nbformat_minor": 2
}
