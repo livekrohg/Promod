{
 "cells": [
  {
   "cell_type": "markdown",
   "metadata": {},
   "source": [
    "# Prøve 2, del 2\n",
    "\n",
    "## Oppgave 4"
   ]
  },
  {
   "cell_type": "code",
   "execution_count": 51,
   "metadata": {},
   "outputs": [
    {
     "name": "stdout",
     "output_type": "stream",
     "text": [
      "Konsentrasjonen er lik ved 38.50527160568163 grader celcius.\n"
     ]
    }
   ],
   "source": [
    "from pylab import*\n",
    "\n",
    "def L_NH3(T):\n",
    "    if 71 >=T>=0:\n",
    "        y = 0.00868*(T**2) - 1.66*T + 87.4\n",
    "    return y\n",
    "\n",
    "def L_NaCl(T):\n",
    "    if 71 >=T>=0:\n",
    "        y = 0.000295*(T**2) + 0.00554*T + 35.7\n",
    "    return y\n",
    "    \n",
    "def likning(T):\n",
    "    return L_NH3(T) - L_NaCl(T)\n",
    "\n",
    "#halveringsmetoden \n",
    "tol = 1E-8\n",
    "def halverings(a, b, f):\n",
    "    m = (a+b)/2 \n",
    "    while abs(f(m)) > tol:\n",
    "        if f(a) * f(m) < 0:\n",
    "            b = m\n",
    "        elif f(b) * f(m) < 0:\n",
    "            a = m\n",
    "        m = (a + b)/2\n",
    "    return m \n",
    "\n",
    "print('Konsentrasjonen er lik ved', halverings(0, 70, likning), 'grader celcius.')\n",
    "\n"
   ]
  },
  {
   "cell_type": "markdown",
   "metadata": {},
   "source": [
    "## Oppgave 5"
   ]
  },
  {
   "cell_type": "code",
   "execution_count": 50,
   "metadata": {},
   "outputs": [
    {
     "data": {
      "image/png": "[encoded data removed]",
      "text/plain": [
       "<Figure size 432x288 with 1 Axes>"
      ]
     },
     "metadata": {
      "needs_background": "light"
     },
     "output_type": "display_data"
    }
   ],
   "source": [
    "from pylab import*\n",
    "\n",
    "#konstanter\n",
    "k = 0.1\n",
    "T0 = 21\n",
    "T_start = 75\n",
    "\n",
    "#tidsvariabler \n",
    "t0 = 0\n",
    "t = 60\n",
    "dt = 0.1\n",
    "N = int(60/0.1)\n",
    "\n",
    "#Arrayer \n",
    "T = zeros(N+1)\n",
    "t = zeros(N+1)\n",
    "\n",
    "#startverdier \n",
    "T[0] = T_start\n",
    "t[0] = t0\n",
    "\n",
    "for i in range (N):\n",
    "    Tder = -k*(T[i] - T0)\n",
    "    T[i+1] = T[i] + Tder*dt #Eulers metode \n",
    "    t[i+1] = t[i] + dt\n",
    "    \n",
    "plot(t, T)\n",
    "ylabel('temperatur')\n",
    "xlabel('tid')\n",
    "grid('on')"
   ]
  },
  {
   "cell_type": "code",
   "execution_count": null,
   "metadata": {},
   "outputs": [],
   "source": []
  }
 ],
 "metadata": {
  "kernelspec": {
   "display_name": "Python 3",
   "language": "python",
   "name": "python3"
  },
  "language_info": {
   "codemirror_mode": {
    "name": "ipython",
    "version": 3
   },
   "file_extension": ".py",
   "mimetype": "text/x-python",
   "name": "python",
   "nbconvert_exporter": "python",
   "pygments_lexer": "ipython3",
   "version": "3.7.3"
  }
 },
 "nbformat": 4,
 "nbformat_minor": 2
}
