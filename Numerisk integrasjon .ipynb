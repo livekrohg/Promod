{
 "cells": [
  {
   "cell_type": "markdown",
   "metadata": {},
   "source": [
    "# NUMERISK INTEGRASJON \n",
    "\"*Derivasjon er et håndverk, integrasjon er en kunst!*\" -Viggo Brun\n",
    "\n",
    "- **Integrasjon** er, som Viggo Brun sier, en kunst. Men om man vil lære litt mer om integrasjon holder nok ikke bare denne beskrivelsen. Man kan forklare integrasjon på mange forskjellige måter. Noen vil beskrive det som å antiderivere en funksjon, andre som å løse en differansiellikning. Alt i alt går integrasjon ut på å finne arealet (ellet et utrykk for arealet) under en graf. Når man finner arealet under en graf, har man funnet *det bestemte integralet*. Når man finner et utrykk for arealet, finner man *det umestemte integralet*\n",
    "\n",
    "- **Numerisk integrasjon** er en numerisk metode for å finne det bestemte integralet til en funksjon. Det finnes mange forskjellige måter å gjøre dette på, og disse skal jeg utforske mer nedenfor.\n",
    "\n",
    "## De forskjellige metodene\n",
    "\n",
    "\n",
    "### Metode 1: Riemann-summen\n",
    "Rienmann-summen, også kjent som rektangelmetoden, går ut på å lage veldig mange små rektangler under grafen mellom $x=a$ og $x=b$. \n",
    "#### Slik fungerer metoden:\n",
    "- For å finnet arealet under grafen, summerer man arealet av alle de små rektanglene\n",
    "- Bredden på de små rektanglene er konstant, og vi kaller den for $dx$. Høyden av rektanglene blir da funksjonsverdien i punktet $x_k$. Arealet av rektangelet blir da $dx \\times f(x_k)$\n",
    "- Nå har vi et utrykk for arealet av ett lite rektangel, og vi finne arealet av mange sånne små rektangler. Da bruker vi summeringstegn, og får: $\\int_a^b f(x) \\,dx = \\sum_{k=0}^{n} f(x_k) \\times dx$\n",
    "- Siden dx er konstant kan vi trekke den ut av summeringstegnet, og vi får:\n",
    "\n",
    "$$\\int_a^b f(x) \\,dx = dx\\times\\sum_{k=0}^{n} f(x_k), n = AntallRektangler$$\n"
   ]
  },
  {
   "cell_type": "code",
   "execution_count": 5,
   "metadata": {},
   "outputs": [
    {
     "name": "stdout",
     "output_type": "stream",
     "text": [
      "Den numeriske tilnærmingen til det bestemte integralet med rektangelmetoden er 3.999599999999993\n"
     ]
    }
   ],
   "source": [
    "from pylab import*\n",
    "\n",
    "def f(x):\n",
    "    return 2*x \n",
    "\n",
    "def rektangelmetoden (g, N, a, b):  #a = start, b = slutt, N = antall rektangler\n",
    "    h = (b-a)/N                     #skrittlengden (dx)\n",
    "    rekt = 0.0                      #startverdien av arealet\n",
    "    for i in range(0,N):            #regner ut det inni summeringstegnet i løkka\n",
    "        rekt=rekt+g(a+(i*h))        #legger til verdier \n",
    "    areal=h*rekt                    #regner ut arealet av alle rektanglene\n",
    "    return areal\n",
    "\n",
    "\n",
    "print('Den numeriske tilnærmingen til det bestemte integralet med rektangelmetoden er',rektangelmetoden(f, 10000, 0, 2))\n"
   ]
  },
  {
   "cell_type": "markdown",
   "metadata": {},
   "source": [
    "### Metode 2: Trapesmetoden\n",
    "Trapesmetoden er en metode som likner veldig på rektangelmetoden. I trapesmetoden bruker man derimot trapeser i stedet for rektangler for å regne ut arealet. \n",
    "\n",
    "#### Slik fungerer metoden:\n",
    "- Arealet av et trapes er gitt ved $A = \\frac{a+b}{2}\\times h$, hvor a og b er sidelengdene i trapeset, og h er bredden\n",
    "- Vi setter $h = dx = \\frac{a-b}{n}$, $a = f(a)$ og $b = f(b)$ Hvis vi bruker ett trapes for å regne ut integralet får vi $\\frac{f(a)+f(b)}{2} \\times(a-b)$\n",
    "- Når vi bruker mange trapeser får vi $\\frac{f(a)+2f(a + dx) +2f(a+2dx)....+f(a+n dx)}{2} \\times(dx)$ \n",
    "- Vi setter alt utenom $dx$ (som vi trekker ut) og $\\frac{f(a)+f(b)}{2}$ inni et summeringstegn, og får:\n",
    "\n",
    "$$\\int_a^b f(x) \\,dx = dx(\\frac{f(a)+f(b)}{2} + \\sum_{k=0}^{n-1} f(x_k))$$"
   ]
  },
  {
   "cell_type": "code",
   "execution_count": 10,
   "metadata": {},
   "outputs": [
    {
     "name": "stdout",
     "output_type": "stream",
     "text": [
      "Den numeriske tilnærmingen til det bestemte integralet med trapesmetoden er 6.7472\n"
     ]
    }
   ],
   "source": [
    "from pylab import*\n",
    "\n",
    "def h(x):\n",
    "    return x**2 + 2\n",
    "\n",
    "def trapesmetoden(g, N, a, b):\n",
    "    h = (b-a)/N                  #skrittlengden (h i trapesene)\n",
    "    trap = (g(a) + g(b))/2       #regner ut (f(a)+f(b)/2)\n",
    "    for i in range (0,N):\n",
    "        trap = trap + g(a + i*h) #legger til alle de andre lengdene\n",
    "    return h*trap                #regner ut arealet av alle trapesene\n",
    "\n",
    "print('Den numeriske tilnærmingen til det bestemte integralet med trapesmetoden er',trapesmetoden(h, 50, 0, 2))\n"
   ]
  },
  {
   "cell_type": "markdown",
   "metadata": {},
   "source": [
    "### Metode 3: Simpsons metode\n",
    "Simpsons metode er også i \"familie\" med Riemann-summen og trapesmetoden. Alle disse tre metodene er Newton-Cotes-metoder. Det eneste som endrer seg fra metode til metode er toppen av \"søylene\" med dx som base (rektangelmetoden: nultegradsfunksjon, trapesmetoden: førstegrads funksjon). I Simpsons metode er toppen av søylene en andregradsfunksjon.\n",
    "\n",
    "#### Slik fungerer metoden:\n",
    "- Det er veldig avansert å komme fram til et utrykk for denne metoden. Det metoden gjør er å gange $\\frac{dx}{3}$ med $(f(a) + 2f(x_{a+dx}) + 4f(x_{a+2dx}) ... + f(b))$. Alle funksjonsverdiene av x-ene som er av partall ganges med 2, og alle av de med oddetall ganges med 4 (her snakker jeg om partall og oddetall som nummeret x-ene har i følgen. $x_{2k}$ er\n",
    "partall og  $x_{2k-1}$ er oddetall). $f(a)$ og $f(b)$ forblir sånn de er. \n",
    "- Ved hjelp av dette kan vi sette opp et utrykk som ser slik ut:\n",
    "\n",
    "$$\\int_a^b f(x) \\,dx = \\frac{h}{3}(f(a)+f(b)+2\\sum_{k=1}^{n-1} f(x_{2k}) + 4\\sum_{k=1}^{n} f(x_{2k-1}))$$\n",
    "\n",
    "\n"
   ]
  },
  {
   "cell_type": "code",
   "execution_count": 9,
   "metadata": {},
   "outputs": [
    {
     "name": "stdout",
     "output_type": "stream",
     "text": [
      "Den numeriske tilnærmingen til det bestemte integralet med simpsons metode er 7.999999999999999\n"
     ]
    }
   ],
   "source": [
    "from pylab import*\n",
    "\n",
    "def y(x):\n",
    "    return 3*x**2\n",
    "\n",
    "def simpsons(g, N, a, b):\n",
    "    h = (b-a)/N                #regner ut det vi ganger alt med\n",
    "    simp = g(a) + g(b)         #legger til endeverdiene\n",
    "    for k in range(1,N,2):     #legger til oddetallene\n",
    "        simp += 4 * g(a + k*h) \n",
    "    for k in range(2, N-1, 2): #legger til partallene\n",
    "        simp += 2*g(a + k*h)\n",
    "    return simp*h/3            #ganger alt med dx/3 og finner integralet\n",
    "\n",
    "print('Den numeriske tilnærmingen til det bestemte integralet med simpsons metode er',simpsons(y, 50, 0, 2))"
   ]
  },
  {
   "cell_type": "markdown",
   "metadata": {},
   "source": [
    "### Metode 4: Monte Carlo-integrasjon\n",
    "- Monte Carlo-integrasjon er ganske annerledes fra de andre metodene vi har sett på. De andre metodene summerer arealet av geometrike figurer med et bestemt intervall, $dx$, som \"bunn\" og en \"topp\" som prøver å tilnærme seg grafen. Monte Carlo-integrasjon baserer seg derimot på tilfeldige tall og sansynlighet. (siden det brukes tilfeldige tall vil resultatet også variere fra gang til gang)\n",
    "\n",
    "#### Slik funker metoden:\n",
    "- Du starter med å tegne en firkant rundt det bestemte integralet du vil finne. \n",
    "- Etter dette begynner du å generere tilfeldige tall (koordinater) som er befinner seg inni denne firkanten.\n",
    "- Sannsynligheten for at et tilfeldig koordinat treffer innenfor integralet du vil finne er $$\\frac{areal.integral}{areal.firkant} = \\frac{punkter.under.graf}{punkter.generert}$$\n",
    "\n",
    "- med dette utrykket får vi et utrykk for integralet:\n",
    "$$areal.integral = \\frac{punkter.under.graf}{punkter.generert} \\times areal.firkant$$\n",
    "\n",
    "#### Programmet:\n",
    "Monte Carlo-integrasjon er ganske annerledes fra de to andre metodene. I stedet for å basere seg på noe geometrisk er jo denne basert på sannsynlighet og tilfeldige tall. Denne metoden er ganske grei og elegant dersom man bruker den på en funksjon av gangen. Jeg har prøvd å lage denne som en generell funksjon som kan brukes på alle funksjoner i alle intervaller. Dette var ikke så lett, men (det rotete) programmet som jeg kom frem til funker helt greit. "
   ]
  },
  {
   "cell_type": "code",
   "execution_count": 1,
   "metadata": {},
   "outputs": [
    {
     "name": "stdout",
     "output_type": "stream",
     "text": [
      "Den numeriske tilnærmingen til det bestemte integralet med monte carlo-integrasjon er: -0.001169359999999342\n"
     ]
    }
   ],
   "source": [
    "import math \n",
    "import random \n",
    "\n",
    "def f(x):\n",
    "    return 2*x - 2\n",
    "\n",
    "def monte(f, a, b, N):\n",
    "    \n",
    "    teller_over = 0.0 #antall punkter som er generert over x-aksen\n",
    "    teller_under = 0.0 #antall punkter som er generert under x-aksen\n",
    "    i_omraadet_over = 0.0 #antall punkter som er innenfor grafen over x-aksen\n",
    "    i_omraadet_under = 0.0 #antall punkter som er innenfor grafen under x-aksen\n",
    "    \n",
    "    #finner høyeste funksjonsverdi mellom a og b\n",
    "    dx = 0.1\n",
    "    y_verdier = []\n",
    "    p = a\n",
    "    while p < b:\n",
    "        y_verdier.append(f(p))\n",
    "        p = p + dx\n",
    "    ekstra = 0.1*(max(y_verdier)-min(y_verdier)) #siden jeg ikke sjekket absolutt alle punktene, legger jeg til litt ekstra\n",
    "    ymaks = max(y_verdier) + ekstra\n",
    "    ymin = min(y_verdier) - ekstra\n",
    "    \n",
    "    #genererer tilfeldige punkter over x-aksen\n",
    "    while teller_over < N:\n",
    "        x_koor = random.uniform(a, b)\n",
    "        y_koor = random.uniform(0, ymaks)\n",
    "        \n",
    "        if y_koor < f(x_koor):\n",
    "            i_omraadet_over += 1 #legger til 1 i antall punkter innenfor grafen\n",
    "            \n",
    "        teller_over += 1 #legger 1 til i antall genererte punkter\n",
    "        \n",
    "    #regner ut arealet over x-aksen\n",
    "    areal_firkant_over = abs((ymaks)*(b-a))\n",
    "    areal_graf_over = (i_omraadet_over/teller_over)*areal_firkant_over #bruker formelen for arealet under grafen\n",
    "\n",
    "    \n",
    "    #sjekker om grafen går under x-aksen (da må den trekke fra arealet under x-aksen)\n",
    "    if ymin < 0:\n",
    "        \n",
    "        #genererer tilfeldige punkter under x-aksen\n",
    "        while teller_under < N:\n",
    "            x_koor = random.uniform(a, b)\n",
    "            y_koor = random.uniform(ymin, 0)\n",
    "        \n",
    "            if y_koor > f(x_koor):\n",
    "                i_omraadet_under += 1 #legger til 1 i antall punkter innenfor grafen\n",
    "            \n",
    "            teller_under += 1 #legger til 1 i antall genererte punkter\n",
    "        \n",
    "        areal_firkant_under = abs((ymin)*(b-a))\n",
    "        areal_graf_under = (i_omraadet_under/teller_under)*areal_firkant_under #bruker formelen for arealet under grafen\n",
    "        areal_graf = areal_graf_over - areal_graf_under #trekker arealet under grafen fra arealet over grafen for å få integralet \n",
    "        \n",
    "    #om grafen ikke skifter fortegn, er integralet lik arealet av grafen over x-aksen\n",
    "    else:\n",
    "        areal_graf = areal_graf_over\n",
    "    \n",
    "    return areal_graf\n",
    "\n",
    "print(\"Den numeriske tilnærmingen til det bestemte integralet med monte carlo-integrasjon er:\",monte(f, 0, 2, 1000000))\n",
    "    "
   ]
  },
  {
   "cell_type": "markdown",
   "metadata": {},
   "source": [
    "## Testing av metodene\n",
    "I denne delen skal jeg teste alle metodene på tre funksjoner. Jeg har valgt tre ganske forskjellige funksjoner: en av første grad, en av andre grad, og en sinusfunksjon. Dette har jeg gjort for å sjekke om metodene har noen problemer med enkelte typer funksjoner. Alle metodene testes på de samme integralene, så jeg kan sammenlikne svarene. De destes også på hvor stor verdi av N som trengs for å gi et nøyaktig resultat. \n",
    "\n",
    "### Riemann-summen:"
   ]
  },
  {
   "cell_type": "code",
   "execution_count": 27,
   "metadata": {},
   "outputs": [
    {
     "name": "stdout",
     "output_type": "stream",
     "text": [
      "Bestemt integral til f(x) mellom 0 og 2 når\n",
      "N = 10 : 5.200000000000001\n",
      "N = 100 : 5.92\n",
      "N = 1000 : 5.992000000000001\n",
      "N = 10000 : 5.9992\n",
      "N = 100000 : 5.9999199999999995\n",
      "Bestemt integral til g(x) mellom -1 og 3 når\n",
      "N = 10 : 25.76000000000001\n",
      "N = 100 : 32.537600000000005\n",
      "N = 1000 : 33.25337599999998\n",
      "N = 10000 : 33.325333759999914\n",
      "N = 100000 : 33.33253333759988\n",
      "Bestemt integral til h(x) mellom 0 og ca 2*pi når\n",
      "N = 10 : 0.0010050900146750447\n",
      "N = 100 : 0.00010508989553197301\n",
      "N = 1000 : 1.5074917580179498e-05\n",
      "N = 10000 : 6.073271215359031e-06\n",
      "N = 100000 : 5.173105089750065e-06\n"
     ]
    }
   ],
   "source": [
    "from pylab import*\n",
    "\n",
    "def rektangelmetoden (g, N, a, b):  \n",
    "    h = (b-a)/N                     \n",
    "    rekt = 0.0                     \n",
    "    for i in range(0,N):            \n",
    "        rekt=rekt+g(a+(i*h))        \n",
    "    areal=h*rekt                    \n",
    "    return areal\n",
    "\n",
    "def f(x):\n",
    "    return 4*x - 1\n",
    "\n",
    "def g(x):\n",
    "    return x**3 + x**2 + x\n",
    "\n",
    "def h(x):\n",
    "    return sin(x)\n",
    "\n",
    "\n",
    "#test 1:\n",
    "print('Bestemt integral til f(x) mellom 0 og 2 når')\n",
    "for i in range(1,6):\n",
    "    n = 10**i\n",
    "    print('N =', n,':', rektangelmetoden(f, n, 0, 2))\n",
    "    \n",
    "#test 2:\n",
    "print('Bestemt integral til g(x) mellom -1 og 3 når')\n",
    "for i in range(1, 6):\n",
    "    n = 10**i\n",
    "    print('N =', n,':', rektangelmetoden(g, n, -1, 3))\n",
    "\n",
    "#test 3:\n",
    "print('Bestemt integral til h(x) mellom 0 og ca 2*pi når')\n",
    "for i in range(1, 6):\n",
    "    n = 10**i\n",
    "    print('N =', n, ':', rektangelmetoden(h, n, 0, 6.28))"
   ]
  },
  {
   "cell_type": "markdown",
   "metadata": {},
   "source": [
    "- Basert på resultatene kan jeg se at resultatene blir mer og mer nøyaktigere når jeg bruker fler rektangler. \n",
    "- Metoden funker ganske bra på alle de forskjellige funksjonene jeg har brukt, og har ikke noen problemer når grafen går under x-aksen. "
   ]
  },
  {
   "cell_type": "code",
   "execution_count": 28,
   "metadata": {},
   "outputs": [
    {
     "name": "stdout",
     "output_type": "stream",
     "text": [
      "Bestemt integral til f(x) mellom 0 og 2 når\n",
      "N = 10 : 5.800000000000001\n",
      "N = 100 : 5.98\n",
      "N = 1000 : 5.998000000000001\n",
      "N = 10000 : 5.9998\n",
      "N = 100000 : 5.999979999999999\n",
      "Bestemt integral til g(x) mellom -1 og 3 når\n",
      "N = 10 : 33.36000000000001\n",
      "N = 100 : 33.29760000000001\n",
      "N = 1000 : 33.32937599999998\n",
      "N = 10000 : 33.332933759999904\n",
      "N = 100000 : 33.333293337599876\n",
      "Bestemt integral til h(x) mellom 0 og ca 2*pi når\n",
      "N = 10 : 4.905251629633955e-06\n",
      "N = 100 : 5.071419227431912e-06\n",
      "N = 1000 : 5.073069949814635e-06\n",
      "N = 10000 : 5.073086452750917e-06\n",
      "N = 100000 : 5.073086613203677e-06\n"
     ]
    }
   ],
   "source": [
    "from pylab import*\n",
    "\n",
    "def trapesmetoden(g, N, a, b):\n",
    "    h = (b-a)/N                  \n",
    "    trap = (g(a) + g(b))/2       \n",
    "    for i in range (0,N):\n",
    "        trap = trap + g(a + i*h)\n",
    "    return h*trap\n",
    "\n",
    "\n",
    "def f(x):\n",
    "    return 4*x - 1\n",
    "\n",
    "def g(x):\n",
    "    return x**3 + x**2 + x\n",
    "\n",
    "def h(x):\n",
    "    return sin(x)\n",
    "\n",
    "\n",
    "#test 1:\n",
    "print('Bestemt integral til f(x) mellom 0 og 2 når')\n",
    "for i in range(1,6):\n",
    "    n = 10**i\n",
    "    print('N =', n,':', trapesmetoden(f, n, 0, 2))\n",
    "    \n",
    "#test 2:\n",
    "print('Bestemt integral til g(x) mellom -1 og 3 når')\n",
    "for i in range(1, 6):\n",
    "    n = 10**i\n",
    "    print('N =', n,':', trapesmetoden(g, n, -1, 3))\n",
    "\n",
    "#test 3:\n",
    "print('Bestemt integral til h(x) mellom 0 og ca 2*pi når')\n",
    "for i in range(1, 6):\n",
    "    n = 10**i\n",
    "    print('N =', n, ':', trapesmetoden(h, n, 0, 6.28))\n",
    "    \n"
   ]
  },
  {
   "cell_type": "markdown",
   "metadata": {},
   "source": [
    "- I likhet med rektangelmetoden blir også trapesmetoden mer og mer presis desto fler trapeser jeg velger å lage. \n",
    "- Denne metoden nærmer seg integralet kjappere enn det rektangelmetoden gjør. Dette kan man se allerede når jeg bare har brukt 10 trapeser. Da er trapesmetoden mer nøyaktig enn det rektangelmetoden er. Dette er nok fordi trapesmetoden \"etterlikner\" kurven på grafen bedre enn det rektangelmetoden gjør.\n",
    "- Heller ikke denne metoden har noen problemer med de forskjellige funksjonene\n",
    "\n",
    "### Simpsons-metode"
   ]
  },
  {
   "cell_type": "code",
   "execution_count": 29,
   "metadata": {
    "scrolled": true
   },
   "outputs": [
    {
     "name": "stdout",
     "output_type": "stream",
     "text": [
      "Bestemt integral til f(x) mellom 0 og 2 når\n",
      "N = 10 : 6.000000000000001\n",
      "N = 100 : 5.999999999999999\n",
      "N = 1000 : 6.0000000000000036\n",
      "N = 10000 : 5.999999999999999\n",
      "N = 100000 : 5.999999999999996\n",
      "Bestemt integral til g(x) mellom -1 og 3 når\n",
      "N = 10 : 33.333333333333336\n",
      "N = 100 : 33.33333333333332\n",
      "N = 1000 : 33.333333333333364\n",
      "N = 10000 : 33.333333333333336\n",
      "N = 100000 : 33.33333333333347\n",
      "Bestemt integral til h(x) mellom 0 og ca 2*pi når\n",
      "N = 10 : 5.077684996410999e-06\n",
      "N = 100 : 5.073087063768893e-06\n",
      "N = 1000 : 5.073086624073903e-06\n",
      "N = 10000 : 5.073086626910238e-06\n",
      "N = 100000 : 5.073086617104065e-06\n"
     ]
    }
   ],
   "source": [
    "from pylab import*\n",
    "\n",
    "def simpsons(g, N, a, b):\n",
    "    h = (b-a)/N\n",
    "    simp = g(a) + g(b)\n",
    "    for k in range(1,N,2):\n",
    "        simp += 4 * g(a + k*h)\n",
    "    for k in range(2, N-1, 2):\n",
    "        simp += 2*g(a + k*h)\n",
    "    return simp*h/3\n",
    "\n",
    "def f(x):\n",
    "    return 4*x - 1\n",
    "\n",
    "def g(x):\n",
    "    return x**3 + x**2 + x\n",
    "\n",
    "def h(x):\n",
    "    return sin(x)\n",
    "\n",
    "#test 1:\n",
    "print('Bestemt integral til f(x) mellom 0 og 2 når')\n",
    "for i in range(1,6):\n",
    "    n = 10**i\n",
    "    print('N =', n,':', simpsons(f, n, 0, 2))\n",
    "    \n",
    "#test 2:\n",
    "print('Bestemt integral til g(x) mellom -1 og 3 når')\n",
    "for i in range(1, 6):\n",
    "    n = 10**i\n",
    "    print('N =', n,':', simpsons(g, n, -1, 3))\n",
    "\n",
    "#test 3:\n",
    "print('Bestemt integral til h(x) mellom 0 og ca 2*pi når')\n",
    "for i in range(1, 6):\n",
    "    n = 10**i\n",
    "    print('N =', n, ':', simpsons(h, n, 0, 6.28))"
   ]
  },
  {
   "cell_type": "markdown",
   "metadata": {},
   "source": [
    "- Akuratt som de andre metodene, blir også denne metoden mer presis desto høyere verdi N har. \n",
    "- Som man ser utifra resultatene, er simpsons-metode enda kjappere på å tilnærme seg den analytiske verdien av integralene. Når jeg kun har brukt 10 intervaller under grafen har simpsons metode et avvik på bare 0.000000000000001! Dette er nok igjen fordi metoden etterlikner kurven på grafen enda bedre enn det de to andre metodene gjør. \n",
    "- I likhet med de andre Newton-Cotes-metodene har ikke denne metoden noen problemer med ulike funksjontyper (som jeg har testet).\n",
    "\n",
    "### Monte Carlo-integrasjon"
   ]
  },
  {
   "cell_type": "code",
   "execution_count": 30,
   "metadata": {
    "scrolled": true
   },
   "outputs": [
    {
     "name": "stdout",
     "output_type": "stream",
     "text": [
      "Bestemt integral til f(x) mellom 0 og 2 når\n",
      "N = 10 : 4.416000000000001\n",
      "N = 100 : 6.076800000000002\n",
      "N = 1000 : 6.146880000000002\n",
      "N = 10000 : 5.973984000000002\n",
      "N = 100000 : 6.030550400000003\n",
      "Bestemt integral til g(x) mellom -1 og 3 når\n",
      "N = 10 : 31.495120000000032\n",
      "N = 100 : 37.04696000000004\n",
      "N = 1000 : 32.437371600000034\n",
      "N = 10000 : 32.91488188000003\n",
      "N = 100000 : 33.32974250800003\n",
      "Bestemt integral til h(x) mellom 0 og ca 2*pi når\n",
      "N = 10 : 0.7530810425159071\n",
      "N = 100 : 0.0748030632591532\n",
      "N = 1000 : -0.29439768481860695\n",
      "N = 10000 : -0.036737909669754876\n",
      "N = 100000 : 0.0060497195699595885\n"
     ]
    }
   ],
   "source": [
    "from pylab import*\n",
    "import random\n",
    "\n",
    "def monte(f, a, b, N):\n",
    "    \n",
    "    teller_over = 0.0\n",
    "    teller_under = 0.0\n",
    "    i_omraadet_over = 0.0\n",
    "    i_omraadet_under = 0.0\n",
    "\n",
    "    dx = 0.1\n",
    "    y_verdier = []\n",
    "    p = a\n",
    "    while p < b:\n",
    "        y_verdier.append(f(p))\n",
    "        p = p + dx\n",
    "    ekstra = 0.1*(max(y_verdier)-min(y_verdier)) \n",
    "    ymaks = max(y_verdier) + ekstra\n",
    "    ymin = min(y_verdier) - ekstra\n",
    "    \n",
    "    while teller_over < N:\n",
    "        x_koor = random.uniform(a, b)\n",
    "        y_koor = random.uniform(0, ymaks)\n",
    "        \n",
    "        if y_koor < f(x_koor):\n",
    "            i_omraadet_over += 1\n",
    "            \n",
    "        teller_over += 1\n",
    "\n",
    "    areal_firkant_over = abs((ymaks)*(b-a))\n",
    "    areal_graf_over = (i_omraadet_over/teller_over)*areal_firkant_over\n",
    "\n",
    "    if ymin < 0:\n",
    "        while teller_under < N:\n",
    "            x_koor = random.uniform(a, b)\n",
    "            y_koor = random.uniform(0, ymin)\n",
    "        \n",
    "            if y_koor > f(x_koor):\n",
    "                i_omraadet_under += 1\n",
    "            \n",
    "            teller_under += 1\n",
    "        \n",
    "        areal_firkant_under = abs((ymin)*(b-a))\n",
    "        areal_graf_under = (i_omraadet_under/teller_under)*areal_firkant_under\n",
    "        areal_graf = areal_graf_over - areal_graf_under\n",
    "        \n",
    "    else:\n",
    "        areal_graf = areal_graf_over\n",
    "    \n",
    "    return areal_graf\n",
    "\n",
    "def f(x):\n",
    "    return 4*x - 1\n",
    "\n",
    "def g(x):\n",
    "    return x**3 + x**2 + x\n",
    "\n",
    "def h(x):\n",
    "    return sin(x)\n",
    "\n",
    "#test 1:\n",
    "print('Bestemt integral til f(x) mellom 0 og 2 når')\n",
    "for i in range(1,6):\n",
    "    n = 10**i\n",
    "    print('N =', n,':', monte(f, 0, 2, n))\n",
    "    \n",
    "#test 2:\n",
    "print('Bestemt integral til g(x) mellom -1 og 3 når')\n",
    "for i in range(1, 6):\n",
    "    n = 10**i\n",
    "    print('N =', n,':', monte(g,-1, 3, n))\n",
    "\n",
    "#test 3:\n",
    "print('Bestemt integral til h(x) mellom 0 og ca 2*pi når')\n",
    "for i in range(1, 6):\n",
    "    n = 10**i\n",
    "    print('N =', n, ':', monte(h, 0, 6.28, n))"
   ]
  },
  {
   "cell_type": "markdown",
   "metadata": {},
   "source": [
    "- Resultatene fra Monte Carlo-integrasjonen viser, akuratt som de andre metodene, at resultatene blir mer presise om man har en større verdi for N. Her er ikke N antall geometriske former under grafen, men antall tilfeldige punkter som genereres. Den trenger den fler punkter enn de andre metodene trenger figurer, for å være presis. \n",
    "- Resultatene fra Monte Carlo-integrasjonen har generelt et større avvik enn det de tre andre funksjonene har. Jeg synes derimot ikke at man skal sammenlikne denne metoden med de to andre, da de er basert på helt forskjellige ting! (De tre første endrer bare på \"toppen\" av sylinderen, og derfor er de mer relevante å sammenlikne). \n",
    "- Denne metoden fungerer på alle funksjoner, men den er mye enklere å bruke på én og én funksjon (altså: ikke gjøre hele programmet om til én stor, generell funksjon, men tilpasse den enkelte funksjoner etter deres behov). Det er litt vanskelig og keitete å gjøre den generell, men programmet jeg endte opp med gir oss en helt ok tilnærmet verdi.\n",
    "\n",
    "\n",
    "## Drøfting  \n",
    "\n",
    "### Newton-Cotes-metodene\n",
    "\n",
    "Fordelen med Newton-Cotes-metodene er at de ikke bruker så mye datakraft for å gjennomføre store oppgaver. Dette er kanskje ikke så nøye med disse små oppgavene i denne notebooken, men det kan være veldig nyttik om man jobber med store programmer. Av disse tre er Simpsons metode den kjappeste til å tilnærme seg integralet, men den bruker derimoit litt mer tid på å regne. \n",
    "\n",
    "\n",
    "Rektangelmetoden egner seg best på nultegradsfunksjoner (da toppen av søylene er nulltegrads). På samme måte egner trapesmetoden seg best for førstegradsfunksjoner og Simpsons metode på andregradsfunksjoner. Alt i alt er disse metodene kjappe, intuitive metoder som gir bra verdier med en høy verdi av $n$. De kan brukes på de aller fleste funksjoner uten særlig store problemer, og de bruker ikke for mye datakraft.\n",
    "\n",
    "### Monte Carlo-integrasjon \n",
    "\n",
    "Denne metoden er helt annerledes enn Newton-Cotes-metodene. Den bruker sannsynlighet og tilfeldige tall for å finne det bestemte integralet på en elegant måte. Til tross for at programmet mitt ikke ble like elegant, synes jeg denne metoden er mye mer interessant. Det som gjør den ekstra spennende er at man ikke får samme svar hver gang man bruker metoden, siden man genererer tilfeldige punkter. Selvom denne metoden er flott, må man lage VELDIG mange punkter for å være nøyaktig, og dette bruker MYE datakraft (dette har nok en sammenhegn med at programmet mitt er veldig langt og krunglete). \n",
    "\n",
    "\n",
    "Monte Carlo-integrasjon egner seg nok best til å finne arealet under en graf (eller arealer generelt), og ikke integralet. Jeg fikk problemer da jeg måtte trekke fra arealet under x-aksen dersom funksjonen skiftet fortegn. For å finne integralet, og ikke arealet, måtte jeg trekke fra arealet av den negative delen. Med en gang jeg tenkte på dette, ble programmet plutselig dobbelt så langt\n",
    "\n",
    "\n",
    "### Konklusjon \n",
    "\n",
    "Det finnes mange forskjellige måter å numerisk integrere, og jeg har bare utforsket en liten del av dem. Disse metodene har alle forskjellige bruksområder, forskjellige vankelighetsgrad og forskjellige ting de bygger på. Alle metodene jeg testet ga bedre resultater desto høyere verdi jeg hadde for $n$, og til tross for frustrerende programmer og en del grubling, har jeg lært ganske mye mer om numerisk integrasjon og programmering generelt. (Og not gonna lie... jeg synes det var ganske spennende å lære om Monte Carlo)"
   ]
  },
  {
   "cell_type": "code",
   "execution_count": null,
   "metadata": {},
   "outputs": [],
   "source": []
  },
  {
   "cell_type": "code",
   "execution_count": null,
   "metadata": {},
   "outputs": [],
   "source": []
  }
 ],
 "metadata": {
  "kernelspec": {
   "display_name": "Python 3",
   "language": "python",
   "name": "python3"
  },
  "language_info": {
   "codemirror_mode": {
    "name": "ipython",
    "version": 3
   },
   "file_extension": ".py",
   "mimetype": "text/x-python",
   "name": "python",
   "nbconvert_exporter": "python",
   "pygments_lexer": "ipython3",
   "version": "3.7.3"
  }
 },
 "nbformat": 4,
 "nbformat_minor": 2
}
