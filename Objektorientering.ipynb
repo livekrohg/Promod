{
 "cells": [
  {
   "cell_type": "markdown",
   "metadata": {},
   "source": [
    "# Objektorientering \n",
    "\n",
    "## 1 Grunnstoffer og bindingstyper \n"
   ]
  },
  {
   "cell_type": "code",
   "execution_count": 7,
   "metadata": {},
   "outputs": [
    {
     "name": "stdout",
     "output_type": "stream",
     "text": [
      "LiF:\n",
      "Ionebinding\n",
      "\n",
      "BrCl:\n",
      "Upolar kovalent binding\n",
      "\n",
      "K2O:\n",
      "Ionebinding\n",
      "\n",
      "CH4:\n",
      "Mellom polar binding og polar kovalent binding\n"
     ]
    }
   ],
   "source": [
    "from pylab import*\n",
    "\n",
    "\n",
    "#A) Lager en klasse for grunnstoffer som returnerer alle verdiene\n",
    "class Grunnstoff: \n",
    "    def __init__ (self, a_num, sym, navn, masse, el_neg):\n",
    "        self.a_num = a_num #atomnumer\n",
    "        self.sym = sym #symbol\n",
    "        self.navn = navn #navn\n",
    "        self.masse = masse #masse\n",
    "        self.el_neg = el_neg #elektronegativitet\n",
    "    #returnerer verdiene i funksjonen under\n",
    "    def tilbake(self): \n",
    "        return self.a_num, self.sym, self.navn, self.masse, self.el_neg \n",
    "\n",
    "#B) Lager grunnstoffene som objekter av klassen \n",
    "Hydrogen = Grunnstoff(1, \"H\", \"Hydrogen\", 1.008, 2.1)\n",
    "Litium = Grunnstoff(3, \"Li\", \"Litium\", 6.941, 1.0)\n",
    "Karbon = Grunnstoff(6,\"C\", \"Karbon\", 12.01, 2.5)\n",
    "Oksygen = Grunnstoff(8, \"O\", \"Oksygen\", 16.00, 3.5)\n",
    "Fluor = Grunnstoff(9, \"F\", \"Fluor\", 19.00, 4.0)\n",
    "Klor = Grunnstoff(17, \"Cl\", \"Klor\", 35.45, 3.2)\n",
    "Kalium = Grunnstoff(19, \"K\", \"Kalium\", 39.10, 0.8)\n",
    "Brom = Grunnstoff(35, \"Br\", \"Brom\", 79.9, 3.0)\n",
    "\n",
    "#C) Definerer en funksjon som bestemmer hva slags binding det er mellom atomene\n",
    "def bindingstype(grunnstoff1, grunnstoff2):\n",
    "    \n",
    "    #henter elektronegativiteten og regner ut forskjellen \n",
    "    denene = grunnstoff1.el_neg\n",
    "    denandre = grunnstoff2.el_neg\n",
    "    forskjell = abs(denandre - denene) \n",
    "    \n",
    "    #finner bindingstypen mellom atomene ved hjelp av tabellen\n",
    "    if forskjell >= 2.0 :\n",
    "        print(\"Ionebinding\")\n",
    "    elif forskjell < 2.0 and forskjell > 1.6 :\n",
    "        print(\"Mellom ionisk binding og polar kovalent binding\")\n",
    "    elif forskjell <= 1.6 and forskjell >= 0.5 : \n",
    "        print(\"Polar binding\") \n",
    "    elif forskjell <  0.5 and forskjell > 0.3 : \n",
    "        print(\"Mellom polar binding og polar kovalent binding\")\n",
    "    elif forskjell <= 0.3: \n",
    "        print(\"Upolar kovalent binding\")\n",
    "\n",
    "#D) Bruker funksjonen til å finne ut hva slags binding det er mellom funksjonene\n",
    "print(\"LiF:\")\n",
    "LiF =  bindingstype(Litium, Fluor)\n",
    "\n",
    "print(\"\\nBrCl:\")\n",
    "BrCl =  bindingstype(Brom, Klor)\n",
    "\n",
    "print(\"\\nK2O:\")\n",
    "KO =  bindingstype(Kalium, Oksygen)\n",
    "\n",
    "print(\"\\nCH4:\")\n",
    "CH =  bindingstype(Karbon, Hydrogen)\n"
   ]
  },
  {
   "cell_type": "code",
   "execution_count": null,
   "metadata": {},
   "outputs": [],
   "source": []
  }
 ],
 "metadata": {
  "kernelspec": {
   "display_name": "Python 3",
   "language": "python",
   "name": "python3"
  },
  "language_info": {
   "codemirror_mode": {
    "name": "ipython",
    "version": 3
   },
   "file_extension": ".py",
   "mimetype": "text/x-python",
   "name": "python",
   "nbconvert_exporter": "python",
   "pygments_lexer": "ipython3",
   "version": "3.7.3"
  }
 },
 "nbformat": 4,
 "nbformat_minor": 2
}
